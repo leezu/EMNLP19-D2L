{
 "cells": [
  {
   "cell_type": "markdown",
   "metadata": {
    "slideshow": {
     "slide_type": "slide"
    }
   },
   "source": [
    "# Using Pre-trained Word Embeddings\n",
    "\n",
    "This notebook demonstrates how to use pre-trained word embeddings in GluonNLP."
   ]
  },
  {
   "cell_type": "markdown",
   "metadata": {
    "slideshow": {
     "slide_type": "skip"
    }
   },
   "source": [
    "To see why word embeddings are useful, it's worth comparing them to the alternative.\n",
    "Without word embeddings, we might represent each word with a one-hot vector `[0, ...,0, 1, 0, ... 0]`, that takes value `1` at the index corresponding to the appropriate vocabulary word, \n",
    "and value `0` everywhere else. \n",
    "The weight matrices connecting our word-level inputs to the network's hidden layers would each be $v \\times h$,\n",
    "where $v$ is the size of the vocabulary and $h$ is the size of the hidden layer. \n",
    "With 100,000 words feeding into an LSTM layer with $1000$ nodes, the model would need to learn\n",
    "$4$ different weight matrices (one for each of the LSTM gates), each with 100M weights, and thus 400 million parameters in total.\n",
    "\n",
    "Fortunately, it turns out that a number of efficient techniques \n",
    "can quickly discover broadly useful word embeddings in an *unsupervised* manner.\n",
    "These embeddings map each word onto a low-dimensional vector $w \\in R^d$ with $d$ commonly chosen to be roughly $100$.\n",
    "Intuitively, these embeddings are chosen based on the contexts in which words appear. \n",
    "Words that appear in similar contexts (like \"tennis\" and \"racquet\") should have similar embeddings\n",
    "while words that do not like (like \"rat\" and \"gourmet\") should have dissimilar embeddings.\n",
    "\n",
    "Practitioners of deep learning for NLP typically inititalize their models \n",
    "using *pretrained* word embeddings, bringing in outside information, and reducing the number of parameters that a neural network needs to learn from scratch.\n",
    "\n",
    "\n",
    "Two popular word embeddings are Word2Vec and fastText. \n",
    "The following examples uses pre-trained word embeddings drawn from the following sources:\n",
    "\n",
    "* Word2Vec https://arxiv.org/abs/1301.3781\n",
    "* fastText project website：https://fasttext.cc/\n",
    "\n",
    "To begin, let's first import the packages that we'll need for this example:"
   ]
  },
  {
   "cell_type": "code",
   "execution_count": null,
   "metadata": {
    "slideshow": {
     "slide_type": "-"
    }
   },
   "outputs": [],
   "source": [
    "from mxnet import nd\n",
    "import gluonnlp as nlp"
   ]
  },
  {
   "cell_type": "markdown",
   "metadata": {
    "slideshow": {
     "slide_type": "slide"
    }
   },
   "source": [
    "## Pre-trained Word Embeddings"
   ]
  },
  {
   "cell_type": "markdown",
   "metadata": {
    "slideshow": {
     "slide_type": "skip"
    }
   },
   "source": [
    "GluonNLP provides a number of pre-trained Word Embeddings."
   ]
  },
  {
   "cell_type": "code",
   "execution_count": null,
   "metadata": {
    "slideshow": {
     "slide_type": "-"
    }
   },
   "outputs": [],
   "source": [
    "nlp.embedding.list_sources('fasttext')[:5]"
   ]
  },
  {
   "cell_type": "markdown",
   "metadata": {
    "slideshow": {
     "slide_type": "skip"
    }
   },
   "source": [
    "For simplicity of demonstration, we use a smaller word embedding file, such as\n",
    "the 50-dimensional one."
   ]
  },
  {
   "cell_type": "code",
   "execution_count": null,
   "metadata": {
    "slideshow": {
     "slide_type": "-"
    }
   },
   "outputs": [],
   "source": [
    "emb = nlp.embedding.create('fasttext', source='wiki.en')"
   ]
  },
  {
   "cell_type": "code",
   "execution_count": null,
   "metadata": {
    "slideshow": {
     "slide_type": "-"
    }
   },
   "outputs": [],
   "source": [
    "vocab_size, dim = emb.idx_to_vec.shape\n",
    "print('Pre-trained embedding vocabulary size: {}, dimension: {}'.format(vocab_size, dim))"
   ]
  },
  {
   "cell_type": "markdown",
   "metadata": {
    "slideshow": {
     "slide_type": "slide"
    }
   },
   "source": [
    "### Word Similarity"
   ]
  },
  {
   "cell_type": "markdown",
   "metadata": {
    "slideshow": {
     "slide_type": "skip"
    }
   },
   "source": [
    "Given an input word, we can find the nearest word from\n",
    "the vocabulary by similarity. The\n",
    "similarity between any pair of words can be represented by the cosine similarity\n",
    "of their vectors."
   ]
  },
  {
   "cell_type": "code",
   "execution_count": null,
   "metadata": {
    "slideshow": {
     "slide_type": "-"
    }
   },
   "outputs": [],
   "source": [
    "def norm_vecs_by_row(x):\n",
    "    return x / nd.sqrt(nd.sum(x * x, axis=1) + 1E-10).reshape((-1,1))"
   ]
  },
  {
   "cell_type": "code",
   "execution_count": null,
   "metadata": {
    "slideshow": {
     "slide_type": "-"
    }
   },
   "outputs": [],
   "source": [
    "def get_knn(emb, k, word):\n",
    "    word_vec = emb[word].reshape((-1, 1))\n",
    "    vocab_vecs = norm_vecs_by_row(emb.idx_to_vec)\n",
    "    dot_prod = nd.dot(vocab_vecs, word_vec)\n",
    "    indices = nd.topk(dot_prod.reshape((len(emb.idx_to_token), )), k=k+1, ret_typ='indices')\n",
    "    indices = [int(i.asscalar()) for i in indices]\n",
    "    return [emb.idx_to_token[i] for i in indices[1:]] # Remove input tokens."
   ]
  },
  {
   "cell_type": "markdown",
   "metadata": {
    "slideshow": {
     "slide_type": "skip"
    }
   },
   "source": [
    "Let us find the 5 most similar words of 'baby' from the vocabulary (size:\n",
    "400,000 words)."
   ]
  },
  {
   "cell_type": "code",
   "execution_count": null,
   "metadata": {
    "slideshow": {
     "slide_type": "subslide"
    }
   },
   "outputs": [],
   "source": [
    "get_knn(emb, 5, 'baby')"
   ]
  },
  {
   "cell_type": "markdown",
   "metadata": {
    "slideshow": {
     "slide_type": "skip"
    }
   },
   "source": [
    "We can verify the cosine similarity of vectors of 'baby' and 'babies'."
   ]
  },
  {
   "cell_type": "code",
   "execution_count": null,
   "metadata": {
    "slideshow": {
     "slide_type": "-"
    }
   },
   "outputs": [],
   "source": [
    "from mxnet import nd\n",
    "def cos_sim(x, y):\n",
    "    return nd.dot(x, y) / (nd.norm(x) * nd.norm(y))\n",
    "\n",
    "cos_sim(emb['baby'], emb['babies'])"
   ]
  },
  {
   "cell_type": "markdown",
   "metadata": {
    "slideshow": {
     "slide_type": "slide"
    }
   },
   "source": [
    "### Word Analogy"
   ]
  },
  {
   "cell_type": "markdown",
   "metadata": {
    "slideshow": {
     "slide_type": "skip"
    }
   },
   "source": [
    "We can also apply pre-trained word embeddings to the word\n",
    "analogy problem. "
   ]
  },
  {
   "cell_type": "markdown",
   "metadata": {
    "slideshow": {
     "slide_type": "-"
    }
   },
   "source": [
    "For instance, \"man : woman :: son : daughter\" is an analogy."
   ]
  },
  {
   "cell_type": "markdown",
   "metadata": {
    "slideshow": {
     "slide_type": "skip"
    }
   },
   "source": [
    "The word analogy completion problem is defined as: for analogy 'a : b :: c : d',\n",
    "given the first three words 'a', 'b', 'c', find 'd'. The idea is to find the\n",
    "most similar word vector for vec('c') + (vec('b')-vec('a')).\n",
    "\n",
    "In this example, we will find words by analogy from the 400,000 indexed words in `vocab`."
   ]
  },
  {
   "cell_type": "code",
   "execution_count": null,
   "metadata": {
    "slideshow": {
     "slide_type": "-"
    }
   },
   "outputs": [],
   "source": [
    "def get_top_k_by_analogy(emb, k, word1, word2, word3):\n",
    "    word_vecs = emb[word1, word2, word3]\n",
    "    word_diff = (word_vecs[1] - word_vecs[0] + word_vecs[2]).reshape((-1, 1))\n",
    "    vocab_vecs = norm_vecs_by_row(emb.idx_to_vec)\n",
    "    dot_prod = nd.dot(vocab_vecs, word_diff)\n",
    "    indices = nd.topk(dot_prod.reshape((len(emb.idx_to_token), )), k=k, ret_typ='indices')\n",
    "    indices = [int(i.asscalar()) for i in indices]\n",
    "    return [emb.idx_to_token[i] for i in indices]"
   ]
  },
  {
   "cell_type": "markdown",
   "metadata": {
    "slideshow": {
     "slide_type": "skip"
    }
   },
   "source": [
    "Complete word analogy 'man : woman :: son :'."
   ]
  },
  {
   "cell_type": "code",
   "execution_count": null,
   "metadata": {
    "slideshow": {
     "slide_type": "-"
    }
   },
   "outputs": [],
   "source": [
    "get_top_k_by_analogy(emb, 1, 'man', 'woman', 'son')"
   ]
  },
  {
   "cell_type": "markdown",
   "metadata": {
    "slideshow": {
     "slide_type": "skip"
    }
   },
   "source": [
    "## API Docs\n",
    "\n",
    "- [gluonnlp.embedding](https://gluon-nlp.mxnet.io/v0.9.x/api/modules/embedding.html) module, including\n",
    "  - [`list_sources`](http://gluon-nlp.mxnet.io/v0.9.x/api/modules/embedding.html#gluonnlp.embedding.list_sources) function.\n",
    "  - [`create`](http://gluon-nlp.mxnet.io/v0.9.x/api/modules/embedding.html#gluonnlp.embedding.create) function.\n",
    "  - [`TokenEmbedding`](http://gluon-nlp.mxnet.io/v0.9.x/api/modules/embedding.html#gluonnlp.embedding.TokenEmbedding) class.\n",
    "- [Vocabulary and Embedding API](http://gluon-nlp.mxnet.io/v0.9.x/api/notes/vocab_emb.html) notes.\n",
    "- [`mxnet.ndarray`](https://mxnet.apache.org/api/python/docs/api/ndarray/index.html) module.\n"
   ]
  },
  {
   "cell_type": "markdown",
   "metadata": {
    "slideshow": {
     "slide_type": "slide"
    }
   },
   "source": [
    "## Exercise\n",
    "\n",
    "- Try a couple of other words in similarity, and see if the result makes sense. Pick some analogical word pairs and see if the embedding gets it right.\n",
    "- Replace the embedding with some other pre-trained embeddings. Compare the results with the fastText embedding.\n",
    "  - Pick an available pre-trained GloVe embeddings.\n",
    "  - You can find them with `gluonnlp.embedding.list_sources('glove')`\n",
    "- Can you find any bias in the embeddings? Look at the top-k results for `doctor - man + woman = ?`"
   ]
  },
  {
   "cell_type": "code",
   "execution_count": null,
   "metadata": {
    "slideshow": {
     "slide_type": "skip"
    }
   },
   "outputs": [],
   "source": [
    "get_knn(emb, 5, 'neural')"
   ]
  },
  {
   "cell_type": "code",
   "execution_count": null,
   "metadata": {
    "slideshow": {
     "slide_type": "skip"
    }
   },
   "outputs": [],
   "source": [
    "get_top_k_by_analogy(emb, 5, 'man', 'doctor', 'woman')"
   ]
  },
  {
   "cell_type": "code",
   "execution_count": null,
   "metadata": {},
   "outputs": [],
   "source": [
    "get_top_k_by_analogy(emb, 5, 'man', 'clever', 'woman')"
   ]
  }
 ],
 "metadata": {
  "celltoolbar": "Slideshow",
  "kernelspec": {
   "display_name": "conda_mxnet_p36",
   "language": "python",
   "name": "python3"
  },
  "language_info": {
   "codemirror_mode": {
    "name": "ipython",
    "version": 3
   },
   "file_extension": ".py",
   "mimetype": "text/x-python",
   "name": "python",
   "nbconvert_exporter": "python",
   "pygments_lexer": "ipython3",
   "version": "3.7.3"
  },
  "toc": {
   "base_numbering": 1,
   "nav_menu": {},
   "number_sections": true,
   "sideBar": true,
   "skip_h1_title": false,
   "title_cell": "Table of Contents",
   "title_sidebar": "Contents",
   "toc_cell": false,
   "toc_position": {},
   "toc_section_display": true,
   "toc_window_display": false
  }
 },
 "nbformat": 4,
 "nbformat_minor": 2
}
